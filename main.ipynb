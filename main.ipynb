{
 "cells": [
  {
   "cell_type": "code",
   "execution_count": 3,
   "id": "25c0c679-c65c-4717-8973-056f23e7d791",
   "metadata": {},
   "outputs": [],
   "source": [
    "import numpy as np\n",
    "import pandas as pd\n",
    "import matplotlib.pyplot as plt\n",
    "# git fetch && git merge origin/main\n",
    "\n",
    "# read data\n",
    "watched = pd.read_csv('watched.csv')\n",
    "watchlist = pd.read_csv('watchlist.csv')\n",
    "ratings = pd.read_csv('ratings.csv')\n",
    "diary = pd.read_csv('diary.csv')\n",
    "profile = pd.read_csv('profile.csv')\n",
    "reviews = pd.read_csv('reviews.csv')\n",
    "list_anime = pd.read_csv('anime.csv')\n",
    "list_physics = pd.read_csv('physics-y.csv')\n",
    "list_revenge = pd.read_csv('revenge-is-the-fuel.csv')\n",
    "list_women = pd.read_csv('women-in-films.csv')\n",
    "list_twist = pd.read_csv('when-i-am-not-twisted-by-reality-movies-instead.csv')"
   ]
  },
  {
   "cell_type": "code",
   "execution_count": null,
   "id": "1e5df35f-a69f-4b6d-a058-f42bbb3842c8",
   "metadata": {},
   "outputs": [],
   "source": []
  }
 ],
 "metadata": {
  "kernelspec": {
   "display_name": "Python 3 (ipykernel)",
   "language": "python",
   "name": "python3"
  },
  "language_info": {
   "codemirror_mode": {
    "name": "ipython",
    "version": 3
   },
   "file_extension": ".py",
   "mimetype": "text/x-python",
   "name": "python",
   "nbconvert_exporter": "python",
   "pygments_lexer": "ipython3",
   "version": "3.7.12"
  }
 },
 "nbformat": 4,
 "nbformat_minor": 5
}
