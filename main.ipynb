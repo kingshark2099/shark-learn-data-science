{
 "cells": [
  {
   "cell_type": "code",
   "execution_count": 2,
   "id": "25c0c679-c65c-4717-8973-056f23e7d791",
   "metadata": {},
   "outputs": [],
   "source": [
    "import numpy as np\n",
    "import pandas as pd\n",
    "import matplotlib.pyplot as plt\n",
    "# git fetch && git merge origin/main\n",
    "\n",
    "# read data\n",
    "watched = pd.read_csv('watched.csv')\n",
    "watchlist = pd.read_csv('watchlist.csv')\n",
    "ratings = pd.read_csv('ratings.csv')\n",
    "diary = pd.read_csv('diary.csv')\n",
    "profile = pd.read_csv('profile.csv')\n",
    "reviews = pd.read_csv('reviews.csv')\n",
    "list_anime = pd.read_csv('anime.csv')\n",
    "list_physics = pd.read_csv('physics-y.csv')\n",
    "list_revenge = pd.read_csv('revenge-is-the-fuel.csv')\n",
    "list_women = pd.read_csv('women-in-films.csv')\n",
    "list_twist = pd.read_csv('when-i-am-not-twisted-by-reality-movies-instead.csv')"
   ]
  },
  {
   "cell_type": "code",
   "execution_count": null,
   "id": "79097056-a005-45c2-81b4-9756d5b0b2c3",
   "metadata": {},
   "outputs": [],
   "source": [
    "# get all columns names\n",
    "watched.columns.tolist() \n",
    "ratings.columns.tolist()"
   ]
  },
  {
   "cell_type": "code",
   "execution_count": null,
   "id": "1848ddbf-74dc-4ecf-80b7-504bb0065e86",
   "metadata": {},
   "outputs": [],
   "source": [
    "# sorted data by Name\n",
    "movies_watched = watched.sort_values('Name').reset_index()\n",
    "movies_watchlist = watchlist.sort_values('Name').reset_index()"
   ]
  },
  {
   "cell_type": "code",
   "execution_count": null,
   "id": "3b7b3ab9-f952-4d66-b24d-4bdf9ee291e5",
   "metadata": {},
   "outputs": [],
   "source": [
    "# access data using indexing\n",
    "watched.iloc[0] # index [row, column]\n",
    "watchlist.sort_values('Name').iloc[:3, 1]\n",
    "watched.iloc[[1, 10, 100], :]\n",
    "watchlist.loc[0, \"Name\"]\n",
    "watchlist.loc[:, ['Name', 'Year']]"
   ]
  },
  {
   "cell_type": "code",
   "execution_count": null,
   "id": "60f2203f-8b59-4d9c-83ab-1e6c376a23ee",
   "metadata": {},
   "outputs": [],
   "source": [
    "# set index\n",
    "watched.sort_values('Year').set_index(\"Year\")\n",
    "watchlist.sort_values('Name').set_index(\"Name\")"
   ]
  },
  {
   "cell_type": "code",
   "execution_count": null,
   "id": "6ed9b331-edfd-4f20-941b-70610ffaae00",
   "metadata": {},
   "outputs": [],
   "source": [
    "# conditional\n",
    "# get movies released in 2020 and sorted by name\n",
    "watched.loc[watched.Year == 2020].sort_values(\"Name\")\n",
    "# get movies released in or after 2010 decade whose ratings are or above 4\n",
    "ratings.loc[(ratings.Year>= 2020) & (ratings.Rating >= 4.0)]\n",
    "# get movies released after 2020 or before 2000\n",
    "watched.loc[(watched.Year > 2020) | (watched.Year < 2000)]\n",
    "# get movies released in 2010 & 2020 and remove Letterboxd URL and Date columns\n",
    "ratings.loc[ratings.Year.isin([2010, 2020]), ['Name', 'Year','Rating']].sort_values('Year').set_index('Year')"
   ]
  },
  {
   "cell_type": "code",
   "execution_count": null,
   "id": "cc42c780-dab6-4473-8ebd-587ee8366785",
   "metadata": {},
   "outputs": [],
   "source": [
    "# functions and maps\n",
    "# get all the release year from wacthed movies\n",
    "watched.Year.unique()\n",
    "# counting how many movies i watched each year\n",
    "watched.Year.value_counts()\n",
    "# using apply() to get ratings/10\n",
    "def rate(row):\n",
    "    row.Rating = row.Rating + 5.0\n",
    "    return row\n",
    "rated_movies = ratings.apply(rate, axis='columns').sort_values(\"Rating\", ascending=False)\n",
    "rated_movies.loc[:,[\"Name\", \"Year\",\"Rating\"]].set_index(\"Year\")\n",
    "# get year wacthed\n",
    "watched.loc[0, \"Date\"].split(\"-\")\n",
    "def year(row):\n",
    "    date = row.Date.split(\"-\")\n",
    "    row.Date = date[0]\n",
    "    return row\n",
    "ratings.apply(year, axis='columns').loc[:, [\"Name\", \"Rating\", \"Date\"]].set_index(\"Date\")"
   ]
  },
  {
   "cell_type": "code",
   "execution_count": null,
   "id": "bf5ad7d9-50dd-456d-80e2-3b55761a1569",
   "metadata": {},
   "outputs": [],
   "source": [
    "# grouping\n",
    "# count how many movies each ratings\n",
    "ratings.groupby(\"Rating\").size()\n",
    "# group by decades release\n",
    "def decade(row):\n",
    "    if row.Year >= 2020: row.Year = \"2020s\"\n",
    "    elif row.Year >= 2010: row.Year = \"2010s\"\n",
    "    elif row.Year >= 2000: row.Year = \"2000s\"\n",
    "    else: row.Year = \"1900s\"\n",
    "    return row\n",
    "group_by_decade = ratings.apply(decade, axis='columns').sort_values('Year').loc[:,['Name','Year','Rating']]\n",
    "group_by_decade.groupby(\"Year\").size() # get how many movies each decades"
   ]
  },
  {
   "cell_type": "code",
   "execution_count": null,
   "id": "679b9979-871e-491f-810f-564128b3c48d",
   "metadata": {},
   "outputs": [],
   "source": [
    "# missing values\n",
    "# find out whether theres a movie without release year data\n",
    "watched[pd.isnull(watched.Year)]\n",
    "# changing missing values of Date column with TBA\n",
    "watched.Date.fillna(\"TBA\")\n",
    "# get type of column\n",
    "watched.Date.dtype\n",
    "watched.Date.astype(str)"
   ]
  },
  {
   "cell_type": "code",
   "execution_count": null,
   "id": "816e0c86-1649-4d61-86a3-941c63e60dfc",
   "metadata": {},
   "outputs": [],
   "source": []
  }
 ],
 "metadata": {
  "kernelspec": {
   "display_name": "Python 3 (ipykernel)",
   "language": "python",
   "name": "python3"
  },
  "language_info": {
   "codemirror_mode": {
    "name": "ipython",
    "version": 3
   },
   "file_extension": ".py",
   "mimetype": "text/x-python",
   "name": "python",
   "nbconvert_exporter": "python",
   "pygments_lexer": "ipython3",
   "version": "3.7.12"
  }
 },
 "nbformat": 4,
 "nbformat_minor": 5
}
